{
 "cells": [
  {
   "cell_type": "code",
   "execution_count": 3,
   "id": "b7711023-9b37-4ec6-85d2-bc07a51ffc7b",
   "metadata": {},
   "outputs": [
    {
     "name": "stdout",
     "output_type": "stream",
     "text": [
      "بزرگ\n"
     ]
    }
   ],
   "source": [
    "number =15\n",
    "if number < 10:\n",
    "    print(\"کوچیک\")\n",
    "elif number > 10:\n",
    "    print(\"بزرگ\")"
   ]
  },
  {
   "cell_type": "code",
   "execution_count": 66,
   "id": "aa90d343-7a9f-4850-9ba0-8009fd9aa524",
   "metadata": {},
   "outputs": [
    {
     "name": "stdout",
     "output_type": "stream",
     "text": [
      "18.0\n"
     ]
    }
   ],
   "source": [
    "def hir(a):\n",
    "    total = sum(a)\n",
    "    average = total / 5\n",
    "    return average\n",
    "a = [18, 19, 20, 17, 16]\n",
    "print(hir(a))\n"
   ]
  },
  {
   "cell_type": "code",
   "execution_count": 76,
   "id": "0e036c6a-e590-405d-b0cb-2ebd42e6e9f1",
   "metadata": {},
   "outputs": [
    {
     "name": "stdout",
     "output_type": "stream",
     "text": [
      "علی\n",
      "امیر\n"
     ]
    }
   ],
   "source": [
    "def s():\n",
    "    def a():\n",
    "        print(\"امیر\")\n",
    "    \n",
    "    print(\"علی\")\n",
    "    a()\n",
    "\n",
    "s()\n"
   ]
  },
  {
   "cell_type": "code",
   "execution_count": null,
   "id": "344c9af3-4a46-46a0-bc7b-429402b53234",
   "metadata": {},
   "outputs": [],
   "source": [
    "عبارت های شرطی و عملگرهای شرطی در برنامه‌نویسی دو مفهوم متفاوت هستند که هر کدام کاربردهای خاص خود را دارند.\n",
    "\n",
    "عبارت های شرطی: عبارت های شرطی، برای اجرای بخش‌های مختلف کد بر اساس شرایط معین استفاده می‌شوند. در زبان‌های برنامه‌نویسی مانند پایتون، عبارت‌های شرطی با استفاده از کلمات کلیدی مانند if، elif و else ساخته می‌شوند1.\n",
    "\n",
    "عملگرهای شرطی: عملگرهای شرطی، برای انتخاب یکی از دو مقدار بر اساس شرطی استفاده می‌شوند. در پایتون، عملگر شرطی با استفاده از علامت سوال ? نمایش داده می‌شود1. این عملگر بررسی می‌کند که شرط داده شده آیا برقرار است یا خیر و بر اساس آن یکی از دو مقدار را انتخاب می‌کند1."
   ]
  },
  {
   "cell_type": "code",
   "execution_count": null,
   "id": "2cea8176-de8a-486b-a638-7a9cf222a426",
   "metadata": {},
   "outputs": [],
   "source": []
  }
 ],
 "metadata": {
  "kernelspec": {
   "display_name": "Python 3 (ipykernel)",
   "language": "python",
   "name": "python3"
  },
  "language_info": {
   "codemirror_mode": {
    "name": "ipython",
    "version": 3
   },
   "file_extension": ".py",
   "mimetype": "text/x-python",
   "name": "python",
   "nbconvert_exporter": "python",
   "pygments_lexer": "ipython3",
   "version": "3.12.2"
  }
 },
 "nbformat": 4,
 "nbformat_minor": 5
}
